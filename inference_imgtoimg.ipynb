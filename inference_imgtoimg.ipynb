{
 "cells": [
  {
   "cell_type": "code",
   "execution_count": 3,
   "metadata": {},
   "outputs": [
    {
     "name": "stderr",
     "output_type": "stream",
     "text": [
      "Loading pipeline components...: 100%|██████████| 6/6 [00:02<00:00,  2.45it/s]\n",
      "100%|██████████| 25/25 [00:01<00:00, 14.85it/s]\n"
     ]
    }
   ],
   "source": [
    "from diffusers import DiffusionPipeline, DPMSolverMultistepScheduler\n",
    "import torch\n",
    "from pathlib import Path\n",
    "import re\n",
    "device = \"cuda\" if torch.cuda.is_available() else \"cpu\"\n",
    "pipe = DiffusionPipeline.from_pretrained(\"stabilityai/stable-diffusion-2\", torch_dtype=torch.float16)\n",
    "pipe.scheduler = DPMSolverMultistepScheduler.from_config(pipe.scheduler.config)\n",
    "pipe.to(device)\n",
    "\n",
    "# pipe.unet.load_attn_procs(\"patrickvonplaten/lora_dreambooth_dog_example\")\n",
    "pipe.unet.load_attn_procs(\"normal_to_malignant_image2image\")\n",
    "seed = 42\n",
    "generator = torch.Generator(device=device).manual_seed(seed)\n",
    "text_prompt = \"ultrasound image of breast with cancer malignant\"\n",
    "image0 = pipe(text_prompt, num_inference_steps=25,generator=generator).images[0]\n",
    "\n",
    "\n",
    "def slugify(text):\n",
    "   text = re.sub(r\"[^\\w\\s]\", \"\", text)\n",
    "   text = re.sub(r\"\\s+\", \"-\", text)\n",
    "   return text\n",
    "\n",
    "\n",
    "DIR_NAME=\"./saved_images/imgtoimg/images_generated_text_to_image/\"\n",
    "dirpath_text_to_image = Path(DIR_NAME)\n",
    "# create parent dir if doesn't exist\n",
    "dirpath_text_to_image.mkdir(parents=True, exist_ok=True)\n",
    "\n",
    "\n",
    "image_name = f'{slugify(text_prompt)}.png'\n",
    "image_path = dirpath_text_to_image / image_name\n",
    "image0.save(image_path)\n",
    "\n",
    "# for idx, (image,prompt) in enumerate(zip(image0.images, prompts*num_images_per_prompt)):\n",
    "#     image_name = f'{slugify(prompt)}-{idx}.png'\n",
    "#     image_path = dirpath / image_name\n",
    "#     image.save(image_path)\n"
   ]
  },
  {
   "cell_type": "code",
   "execution_count": 4,
   "metadata": {},
   "outputs": [
    {
     "name": "stderr",
     "output_type": "stream",
     "text": [
      "Loading pipeline components...: 100%|██████████| 6/6 [00:01<00:00,  5.16it/s]\n"
     ]
    },
    {
     "name": "stdout",
     "output_type": "stream",
     "text": [
      "StableDiffusionImg2ImgPipeline {\n",
      "  \"_class_name\": \"StableDiffusionImg2ImgPipeline\",\n",
      "  \"_diffusers_version\": \"0.20.0.dev0\",\n",
      "  \"_name_or_path\": \"stabilityai/stable-diffusion-2\",\n",
      "  \"feature_extractor\": [\n",
      "    \"transformers\",\n",
      "    \"CLIPImageProcessor\"\n",
      "  ],\n",
      "  \"requires_safety_checker\": false,\n",
      "  \"safety_checker\": [\n",
      "    null,\n",
      "    null\n",
      "  ],\n",
      "  \"scheduler\": [\n",
      "    \"diffusers\",\n",
      "    \"EulerDiscreteScheduler\"\n",
      "  ],\n",
      "  \"text_encoder\": [\n",
      "    \"transformers\",\n",
      "    \"CLIPTextModel\"\n",
      "  ],\n",
      "  \"tokenizer\": [\n",
      "    \"transformers\",\n",
      "    \"CLIPTokenizer\"\n",
      "  ],\n",
      "  \"unet\": [\n",
      "    \"diffusers\",\n",
      "    \"UNet2DConditionModel\"\n",
      "  ],\n",
      "  \"vae\": [\n",
      "    \"diffusers\",\n",
      "    \"AutoencoderKL\"\n",
      "  ]\n",
      "}\n",
      "\n"
     ]
    }
   ],
   "source": [
    "\n",
    "from diffusers  import StableDiffusionImg2ImgPipeline, EulerDiscreteScheduler\n",
    "from diffusers import DiffusionPipeline, DPMSolverMultistepScheduler\n",
    "import torch\n",
    "\n",
    "\n",
    "device = \"cuda\" if torch.cuda.is_available() else \"cpu\"\n",
    "# Step 2: Create the pipeline with your UNet model\n",
    "model_id =  \"stabilityai/stable-diffusion-2\"\n",
    "pipe = StableDiffusionImg2ImgPipeline.from_pretrained(model_id, torch_dtype=torch.float16)\n",
    "\n",
    "\n",
    "\n",
    "# pipe.scheduler = DPMSolverMultistepScheduler.from_config(pipe.scheduler.config)\n",
    "# pipe.to(device)\n",
    "\n",
    "pipe.scheduler = EulerDiscreteScheduler.from_config(pipe.scheduler.config)\n",
    "pipe.to(\"cuda\")\n",
    "\n",
    "pipe.unet.load_attn_procs(\"normal_to_malignant_image2image\")\n",
    "\n"
   ]
  },
  {
   "cell_type": "code",
   "execution_count": 5,
   "metadata": {},
   "outputs": [
    {
     "name": "stderr",
     "output_type": "stream",
     "text": [
      "100%|██████████| 16/16 [00:02<00:00,  6.19it/s]\n"
     ]
    }
   ],
   "source": [
    "# pipe.scheduler = EulerDiscreteScheduler.from_config(pipe.scheduler.config)\n",
    "# pipe.to(\"cuda\")\n",
    "from PIL import Image\n",
    "from pathlib import Path\n",
    "import torch\n",
    "import re\n",
    "\n",
    "steps = 20\n",
    "scale = 9\n",
    "num_images_per_prompt = 1\n",
    "# seed = torch.randint(0, 1000000, (1,)).item()\n",
    "seed = 9\n",
    "generator = torch.Generator(device=device).manual_seed(seed)\n",
    "\n",
    "# images = [\"/home/brianformento/Dataset_BUSI_with_GT/normal/normal (1).png\",\n",
    "# \"/home/brianformento/Dataset_BUSI_with_GT/benign/benign (1).png\" ,\n",
    "#  \"/home/brianformento/Dataset_BUSI_with_GT/malignant/malignant (1).png\"]\n",
    "\n",
    "images = [\"./ultrasound/normal/normal (5).png\",\n",
    "\"./ultrasound/normal/normal (6).png\" ,\n",
    " \"./ultrasound/normal/normal (7).png\"]\n",
    "\n",
    "init_images = [Image.open(image).convert(\"RGB\").resize((768,768)) for image in images] \n",
    "\n",
    "\n",
    "\n",
    "prompts = [\"ultra sound image of breast with malignant cancer\",\n",
    "           \"ultra sound image of breast with malignant cancer\", \n",
    "           \"ultra sound image of breast with malignant cancer\"]\n",
    "\n",
    "\n",
    "DIR_NAME=\"./saved_images/imgtoimg/images_preprocessed/\"\n",
    "dirpath_preprocessed = Path(DIR_NAME)\n",
    "# create parent dir if doesn't exist\n",
    "dirpath_preprocessed.mkdir(parents=True, exist_ok=True)\n",
    "\n",
    "for idx, (image,prompt) in enumerate(zip(init_images, prompts )):\n",
    "    image_name = f'{slugify(prompt)}-{idx}.png'\n",
    "    image_path = dirpath_preprocessed / image_name\n",
    "    image.save(image_path)\n",
    "\n",
    "negative_prompts = [\"ultrasound scanning device\",\n",
    "                    \"ultrasound scanning device\",\n",
    "                    \"ultrasound scanning device\"]\n",
    "\n",
    "output =  pipe(prompts, negative_prompt=negative_prompts, image=init_images, num_inference_steps=steps,\n",
    "guidance_scale=scale, num_images_per_prompt=num_images_per_prompt, generator=generator)\n",
    "\n",
    "\n",
    "\n",
    "DIR_NAME=\"./saved_images/imgtoimg/images_generated_image_to_image/\"\n",
    "dirpath = Path(DIR_NAME)\n",
    "# create parent dir if doesn't exist\n",
    "dirpath.mkdir(parents=True, exist_ok=True)\n",
    "\n",
    "def slugify(text):\n",
    "   text = re.sub(r\"[^\\w\\s]\", \"\", text)\n",
    "   text = re.sub(r\"\\s+\", \"-\", text)\n",
    "   return text\n",
    "\n",
    "for idx, (image,prompt) in enumerate(zip(output.images, prompts*num_images_per_prompt)):\n",
    "    image_name = f'{slugify(prompt)}-{idx}.png'\n",
    "    image_path = dirpath / image_name\n",
    "    image.save(image_path)\n"
   ]
  }
 ],
 "metadata": {
  "kernelspec": {
   "display_name": "ultrasound",
   "language": "python",
   "name": "python3"
  },
  "language_info": {
   "codemirror_mode": {
    "name": "ipython",
    "version": 3
   },
   "file_extension": ".py",
   "mimetype": "text/x-python",
   "name": "python",
   "nbconvert_exporter": "python",
   "pygments_lexer": "ipython3",
   "version": "3.10.11"
  },
  "orig_nbformat": 4
 },
 "nbformat": 4,
 "nbformat_minor": 2
}
